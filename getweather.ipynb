{
 "cells": [
  {
   "cell_type": "markdown",
   "id": "polish-found",
   "metadata": {},
   "source": [
    "## Fetching weather data from openweathermap.org\n",
    "\n",
    "It's possible to get data for the past 5 days with an unpaid account, but getting data any further back costs money.\n",
    "As of now I only have data more than 5 days back for one station: Axis-Brightwood. I'm considering buying historical data for that one site, but for now the following code will fetch recent data for all sites at which I'm actively collecting data.\n",
    "I need to manually run this notebook once a day until I get around to copy-pasting this into a script and automating that task."
   ]
  },
  {
   "cell_type": "code",
   "execution_count": 1,
   "id": "human-scenario",
   "metadata": {},
   "outputs": [],
   "source": [
    "import json, os, requests, time\n",
    "from datetime import datetime, timedelta\n",
    "import pymysql\n",
    "import sqlalchemy as SQL\n",
    "from urllib.parse import quote_plus as QP\n",
    "HOME = os.path.expanduser('~')\n",
    "WEATHER_DIR = os.path.join(HOME, 'Data', 'Storage', 'AlertWF', 'weather')\n",
    "\n",
    "if not os.path.exists(WEATHER_DIR):\n",
    "    os.makedirs(WEATHER_DIR)\n",
    "assert os.path.isdir(WEATHER_DIR)\n",
    "\n",
    "secrets_path = os.path.join(HOME, 'Documents', 'secrets.json')\n",
    "with open(secrets_path,'r') as secrets_file:\n",
    "    secrets = json.load(secrets_file)\n",
    "    API_KEY = secrets['openweathermap.org']['api_key']\n",
    "    _sql_secrets = secrets['mysql']\n",
    "    sql_passwd = _sql_secrets['PASSWD']\n",
    "    sql_usr = _sql_secrets['USER']\n",
    "    sql_host = _sql_secrets['HOST']\n",
    "    sql_port = _sql_secrets['PORT']\n",
    "    sql_db = _sql_secrets['DB']\n",
    "\n",
    "WEATHER_API = 'https://api.openweathermap.org/data/2.5/onecall/timemachine'\n",
    "SQL_URL = f\"mysql+pymysql://{sql_usr}:{QP(sql_passwd)}@{sql_host}:{sql_port}/{sql_db}\"\n",
    "SQL_ENGINE = SQL.create_engine(SQL_URL)\n",
    "%load_ext sql\n",
    "%sql $SQL_URL"
   ]
  },
  {
   "cell_type": "code",
   "execution_count": 2,
   "id": "optical-comparison",
   "metadata": {},
   "outputs": [],
   "source": [
    "def get_hourly_weather(lon:float, lat:float, date:datetime) -> dict:\n",
    "    dt = int(date.timestamp())\n",
    "    prm = dict(lon=lon,lat=lat,dt=dt,units='metric',appid=API_KEY)\n",
    "    result = requests.get(WEATHER_API, params=prm)\n",
    "    assert result.status_code == 200, \\\n",
    "        f'status code: {result.status_code}\\nURL: {result.url}'\n",
    "    time.sleep(1) ## Rate-limited API\n",
    "    return result.json()\n",
    "\n",
    "def days_ago(n: int) -> datetime:\n",
    "    d = datetime.date(datetime.today())-timedelta(days=n)\n",
    "    dt = datetime.fromordinal(d.toordinal())\n",
    "    return dt"
   ]
  },
  {
   "cell_type": "code",
   "execution_count": 3,
   "id": "democratic-ecuador",
   "metadata": {},
   "outputs": [
    {
     "name": "stdout",
     "output_type": "stream",
     "text": [
      "Processing station: Axis-Alpine\n",
      "Processing station: Axis-Brightwood\n",
      "Processing station: Axis-DeerHorn2\n",
      "Processing station: Axis-FayRanch2\n",
      "Processing station: Axis-GrizzlyPeakLookout2\n",
      "Processing station: Axis-HolidayLake2\n",
      "Processing station: Axis-Indiana\n",
      "Processing station: Axis-Steens\n",
      "Processing station: Axis-Strawberry2\n",
      "Processing station: Axis-WestMtnUtah\n",
      "Processing station: Axis-WhitneyPortal2\n",
      "Done!\n"
     ]
    }
   ],
   "source": [
    "query_one = 'SELECT lon, lat FROM stations WHERE id=:station'\n",
    "query_all = 'SELECT DISTINCT station FROM stations st INNER JOIN images im ON st.id=im.station;'\n",
    "\n",
    "with SQL_ENGINE.connect().execution_options(autocommit=True) as conn:\n",
    "    result = conn.execute(query_all)\n",
    "    stations = [row[0] for row in result.fetchall()]\n",
    "    for station in stations:\n",
    "        print('Processing station:',station)\n",
    "        query = SQL.text(query_one).bindparams(SQL.bindparam(\"station\", type_=SQL.String))\n",
    "        lon, lat = conn.execute(query, dict(station=station)).fetchone()\n",
    "        \n",
    "        #for n in range(5):\n",
    "        for n in [1]:\n",
    "            dt = days_ago(n)\n",
    "            weather = get_hourly_weather(lon, lat, dt)\n",
    "            dstamp = dt.strftime('%Y-%m-%d')\n",
    "            fname = f'{station}-{dstamp}.json'\n",
    "            path = os.path.join(WEATHER_DIR, fname)\n",
    "            with open(path, 'w') as data_file:\n",
    "                json.dump(weather, data_file)\n",
    "\n",
    "print('Done!')        "
   ]
  },
  {
   "cell_type": "code",
   "execution_count": null,
   "id": "frozen-cloud",
   "metadata": {},
   "outputs": [],
   "source": []
  }
 ],
 "metadata": {
  "kernelspec": {
   "display_name": "Python 3",
   "language": "python",
   "name": "python3"
  },
  "language_info": {
   "codemirror_mode": {
    "name": "ipython",
    "version": 3
   },
   "file_extension": ".py",
   "mimetype": "text/x-python",
   "name": "python",
   "nbconvert_exporter": "python",
   "pygments_lexer": "ipython3",
   "version": "3.8.6"
  }
 },
 "nbformat": 4,
 "nbformat_minor": 5
}
