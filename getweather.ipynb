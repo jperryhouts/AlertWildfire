{
 "cells": [
  {
   "cell_type": "markdown",
   "id": "coordinate-wrist",
   "metadata": {},
   "source": [
    "## Fetching weather data from openweathermap.org\n",
    "\n",
    "It's possible to get data for the past 5 days with an unpaid account, but getting data any further back costs money.\n",
    "As of now I only have data more than 5 days back for one station: Axis-Brightwood. I'm considering buying historical data for that one site, but for now the following code will fetch recent data for all sites at which I'm actively collecting data.\n",
    "I need to manually run this notebook once a day until I get around to copy-pasting this into a script and automating that task."
   ]
  },
  {
   "cell_type": "code",
   "execution_count": 1,
   "id": "desperate-tanzania",
   "metadata": {},
   "outputs": [],
   "source": [
    "import json, os, requests, time\n",
    "from datetime import datetime, timedelta\n",
    "import pymysql\n",
    "import sqlalchemy as SQL\n",
    "from urllib.parse import quote_plus as QP\n",
    "HOME = os.path.expanduser('~')\n",
    "WEATHER_DIR = os.path.join(HOME, 'Data', 'Storage', 'AlertWF', 'weather')\n",
    "\n",
    "if not os.path.exists(WEATHER_DIR):\n",
    "    os.makedirs(WEATHER_DIR)\n",
    "assert os.path.isdir(WEATHER_DIR)\n",
    "\n",
    "secrets_path = os.path.join(HOME, 'Documents', 'secrets.json')\n",
    "with open(secrets_path,'r') as secrets_file:\n",
    "    secrets = json.load(secrets_file)\n",
    "    API_KEY = secrets['openweathermap.org']['api_key']\n",
    "    _sql_secrets = secrets['mysql']\n",
    "    sql_passwd = _sql_secrets['PASSWD']\n",
    "    sql_usr = _sql_secrets['USER']\n",
    "    sql_host = _sql_secrets['HOST']\n",
    "    sql_port = _sql_secrets['PORT']\n",
    "    sql_db = _sql_secrets['DB']\n",
    "\n",
    "WEATHER_API = 'https://api.openweathermap.org/data/2.5/onecall/timemachine'\n",
    "SQL_URL = f\"mysql+pymysql://{sql_usr}:{QP(sql_passwd)}@{sql_host}:{sql_port}/{sql_db}\"\n",
    "SQL_ENGINE = SQL.create_engine(SQL_URL)\n",
    "%load_ext sql\n",
    "%sql $SQL_URL"
   ]
  },
  {
   "cell_type": "code",
   "execution_count": 2,
   "id": "noble-intention",
   "metadata": {},
   "outputs": [],
   "source": [
    "def get_hourly_weather(lon:float, lat:float, date:datetime) -> dict:\n",
    "    dt = int(date.timestamp())\n",
    "    prm = dict(lon=lon,lat=lat,dt=dt,units='metric',appid=API_KEY)\n",
    "    result = requests.get(WEATHER_API, params=prm)\n",
    "    assert result.status_code == 200, \\\n",
    "        f'status code: {result.status_code}\\nURL: {result.url}'\n",
    "    time.sleep(1) ## Rate-limited API\n",
    "    return result.json()\n",
    "\n",
    "def days_ago(n: int) -> datetime:\n",
    "    d = datetime.date(datetime.today())-timedelta(days=n)\n",
    "    dt = datetime.fromordinal(d.toordinal())\n",
    "    return dt"
   ]
  },
  {
   "cell_type": "code",
   "execution_count": 3,
   "id": "drawn-drive",
   "metadata": {},
   "outputs": [
    {
     "name": "stdout",
     "output_type": "stream",
     "text": [
      "  Saving: /home/jmp/Data/Storage/AlertWF/weather/Axis-Alpine-2021-03-16.json\n",
      "  Saving: /home/jmp/Data/Storage/AlertWF/weather/Axis-Brightwood-2021-03-16.json\n",
      "  Saving: /home/jmp/Data/Storage/AlertWF/weather/Axis-DeerHorn2-2021-03-16.json\n",
      "  Saving: /home/jmp/Data/Storage/AlertWF/weather/Axis-FayRanch2-2021-03-16.json\n",
      "  Saving: /home/jmp/Data/Storage/AlertWF/weather/Axis-GrizzlyPeakLookout2-2021-03-16.json\n",
      "  Saving: /home/jmp/Data/Storage/AlertWF/weather/Axis-HolidayLake2-2021-03-16.json\n",
      "  Saving: /home/jmp/Data/Storage/AlertWF/weather/Axis-Indiana-2021-03-16.json\n",
      "  Saving: /home/jmp/Data/Storage/AlertWF/weather/Axis-Steens-2021-03-16.json\n",
      "  Saving: /home/jmp/Data/Storage/AlertWF/weather/Axis-Strawberry2-2021-03-16.json\n",
      "  Saving: /home/jmp/Data/Storage/AlertWF/weather/Axis-WestMtnUtah-2021-03-16.json\n",
      "  Saving: /home/jmp/Data/Storage/AlertWF/weather/Axis-WhitneyPortal2-2021-03-16.json\n",
      "Done!\n"
     ]
    }
   ],
   "source": [
    "query = 'SELECT DISTINCT station, lon, lat FROM stations st INNER JOIN images im ON st.id=im.station;'\n",
    "\n",
    "with SQL_ENGINE.connect().execution_options(autocommit=True) as conn:\n",
    "    results = conn.execute(query)\n",
    "    for station, lon, lat in results.fetchall():\n",
    "        #for n in range(5):\n",
    "        for n in [1]:\n",
    "            dt = days_ago(n)\n",
    "            weather = get_hourly_weather(lon, lat, dt)\n",
    "            fname = f\"{station}-{dt.strftime('%Y-%m-%d')}.json\"\n",
    "            path = os.path.join(WEATHER_DIR, fname)\n",
    "            print('  Saving:', path)\n",
    "            with open(path, 'w') as data_file:\n",
    "                json.dump(weather, data_file)\n",
    "\n",
    "print('Done!')        "
   ]
  },
  {
   "cell_type": "code",
   "execution_count": 4,
   "id": "loved-background",
   "metadata": {},
   "outputs": [
    {
     "data": {
      "text/plain": [
       "\u001b[0;31mSignature:\u001b[0m \u001b[0mrequests\u001b[0m\u001b[0;34m.\u001b[0m\u001b[0mget\u001b[0m\u001b[0;34m(\u001b[0m\u001b[0murl\u001b[0m\u001b[0;34m,\u001b[0m \u001b[0mparams\u001b[0m\u001b[0;34m=\u001b[0m\u001b[0;32mNone\u001b[0m\u001b[0;34m,\u001b[0m \u001b[0;34m**\u001b[0m\u001b[0mkwargs\u001b[0m\u001b[0;34m)\u001b[0m\u001b[0;34m\u001b[0m\u001b[0;34m\u001b[0m\u001b[0m\n",
       "\u001b[0;31mDocstring:\u001b[0m\n",
       "Sends a GET request.\n",
       "\n",
       ":param url: URL for the new :class:`Request` object.\n",
       ":param params: (optional) Dictionary or bytes to be sent in the query string for the :class:`Request`.\n",
       ":param \\*\\*kwargs: Optional arguments that ``request`` takes.\n",
       ":return: :class:`Response <Response>` object\n",
       ":rtype: requests.Response\n",
       "\u001b[0;31mFile:\u001b[0m      ~/.local/lib/python3.8/site-packages/requests/api.py\n",
       "\u001b[0;31mType:\u001b[0m      function\n"
      ]
     },
     "metadata": {},
     "output_type": "display_data"
    }
   ],
   "source": [
    "requests.get?"
   ]
  },
  {
   "cell_type": "code",
   "execution_count": null,
   "id": "nominated-george",
   "metadata": {},
   "outputs": [],
   "source": []
  }
 ],
 "metadata": {
  "kernelspec": {
   "display_name": "Python 3",
   "language": "python",
   "name": "python3"
  },
  "language_info": {
   "codemirror_mode": {
    "name": "ipython",
    "version": 3
   },
   "file_extension": ".py",
   "mimetype": "text/x-python",
   "name": "python",
   "nbconvert_exporter": "python",
   "pygments_lexer": "ipython3",
   "version": "3.8.6"
  }
 },
 "nbformat": 4,
 "nbformat_minor": 5
}
