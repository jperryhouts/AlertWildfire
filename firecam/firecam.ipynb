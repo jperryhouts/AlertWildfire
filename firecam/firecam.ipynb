{
 "cells": [
  {
   "cell_type": "markdown",
   "id": "sixth-helmet",
   "metadata": {},
   "source": [
    "## Using this notebook\n",
    "\n",
    "This notebook extracts those cropped/shifted/mirrored segments of the positive training examples, and saves them into a new directory. At the very end of the notebook, it uses the [make_training_data_eplorer.sh](./make_training_data_explorer.sh) script to generate html pages on which the resulting datasets can be generated. Those pages are saved to [training/non_smoke.html](./training/non_smoke.html) and [training/smoke_cropped.html](./training/smoke_cropped.html).\n",
    "\n",
    "After downloading training data from the FireCam project [repository](https://github.com/open-climate-tech/firecam/tree/master/datasets/2019a), it should be extracted and arranged into a directory structure as follows:\n",
    "\n",
    "```\n",
    "DataDir\n",
    "|- bounding_box_data.csv\n",
    "|- cropped_images/\n",
    "|- full_images/\n",
    "   |- img1.jpg\n",
    "   |- img2.jpg\n",
    "   |- ...\n",
    "```\n",
    "\n",
    "where `img1.jpg`, `img2.jpg`, etc, correspond to images specified in the `Filename` column of `bounding_box_data.csv`. The resulting images will be placed in the `cropped_images` directory with names like `img1_00007_+70,-70_mirror.jpg`, where `00007` denotes the row number from `bounding_box_data.csv`, the box is shifted by (70,-70) pixels, and is mirrored before saving.\n",
    "\n",
    "The `bounding_box_data.csv` file should contain five rows: `MinX`, `MaxX`, `MinY`, `MaxY`, `Filename`. It is assumed that the file starts with two comment lines, followed by a header line and then the data."
   ]
  },
  {
   "cell_type": "code",
   "execution_count": 1,
   "id": "delayed-mention",
   "metadata": {},
   "outputs": [],
   "source": [
    "from glob import glob\n",
    "from os.path import expanduser, join as path_join\n",
    "from typing import Tuple\n",
    "from PIL import Image, ImageOps\n",
    "import pandas as pd\n",
    "\n",
    "####### CONSTANTS #######\n",
    "BBOX_DATA  = '~/Data/firecam/2019a-bounding-boxes.csv'\n",
    "INPUT_DIR  = '~/Data/firecam/smoke_full'\n",
    "OUTPUT_DIR = '~/Data/firecam/smoke_cropped'\n",
    "FNAME_PATTERN = '{stem:s}_{idx:d}_{dx:+03d},{dy:+03d}_{orient:s}.jpg'\n",
    "#########################\n",
    "\n",
    "bbox = pd.read_csv(expanduser(BBOX_DATA), skiprows=2)\n",
    "opath = path_join(expanduser(OUTPUT_DIR), FNAME_PATTERN)"
   ]
  },
  {
   "cell_type": "code",
   "execution_count": 2,
   "id": "infrared-librarian",
   "metadata": {},
   "outputs": [
    {
     "data": {
      "image/png": "[encoded data removed]",
      "text/plain": [
       "<Figure size 432x288 with 1 Axes>"
      ]
     },
     "metadata": {
      "needs_background": "light"
     },
     "output_type": "display_data"
    }
   ],
   "source": [
    "'''\n",
    "Since we're going to be extracting 299x299 px segments, let's first\n",
    "check that our bounding boxes have similar dimensions. Ideally, the\n",
    "bounding boxes will fit comfortably within the cropped images, even\n",
    "after being shifted as described above.\n",
    "'''\n",
    "\n",
    "import matplotlib.pyplot as plt\n",
    "import numpy as np\n",
    "%matplotlib inline\n",
    "\n",
    "plt.hist(np.log10(bbox.MaxX-bbox.MinX), bins=25, color='lightblue', alpha=1, label='Width')\n",
    "plt.hist(np.log10(bbox.MaxY-bbox.MinY), bins=25, color='red', alpha=0.3, label='Height')\n",
    "plt.legend()\n",
    "plt.xlabel('$log_{10}(pixels)$')\n",
    "_=plt.ylabel('Count')"
   ]
  },
  {
   "cell_type": "code",
   "execution_count": 3,
   "id": "compatible-management",
   "metadata": {},
   "outputs": [],
   "source": [
    "class ROI():\n",
    "    '''\n",
    "    This class helps with defining and manipulating a\n",
    "    region of interest within an image's pixel space.\n",
    "    It includes basic functions for shifting the region\n",
    "    of interest, and for ensuring that it stays within\n",
    "    the overall bounds of the image dimensions.\n",
    "    '''\n",
    "    def __init__(self, x0: int, y0: int, x1: int, y1: int) -> None:\n",
    "        self.x0 = x0\n",
    "        self.x1 = x1\n",
    "        self.y0 = y0\n",
    "        self.y1 = y1\n",
    "        self.width = x1-x0\n",
    "        self.height = y1-y0\n",
    "    \n",
    "    def shift_x(self, distance: int) -> None:\n",
    "        self.x1 += distance\n",
    "        self.x0 += distance\n",
    "    \n",
    "    def shift_y(self, distance: int) -> None:\n",
    "        self.y1 += distance\n",
    "        self.y0 += distance\n",
    "    \n",
    "    def shift_xy(self, dx:int, dy:int) -> None:\n",
    "        self.shift_x(dx)\n",
    "        self.shift_y(dy)\n",
    "    \n",
    "    def as_tuple(self):\n",
    "        return (self.x0, self.y0, self.x1, self.y1)\n",
    "    \n",
    "    def set_limits(self, limit: Tuple[int, int]) -> None:\n",
    "        if self.x0 < 0:\n",
    "            self.shift_x(abs(self.x0))\n",
    "        if self.y0 < 0:\n",
    "            self.shift_y(abs(self.y0))\n",
    "        if self.x1 > limit[0]:\n",
    "            self.shift_x(self.x1-limit[0])\n",
    "        if self.y1 > limit[1]:\n",
    "            self.shift_y(self.y1-limit[1])\n",
    "        \n",
    "        assert roi.x0 >= 0\n",
    "        assert roi.y0 >= 0"
   ]
  },
  {
   "cell_type": "code",
   "execution_count": 4,
   "id": "floral-louisville",
   "metadata": {},
   "outputs": [
    {
     "name": "stdout",
     "output_type": "stream",
     "text": [
      "Unable to process record pi-s-mobo-c__2019-08-26T10;34;07.jpg:\n",
      " [Errno 2] No such file or directory: '/home/jmp/Data/firecam/smoke_full/pi-s-mobo-c__2019-08-26T10;34;07.jpg'\n"
     ]
    }
   ],
   "source": [
    "## Iterate through the bounding box data rows\n",
    "for idx, row in bbox.iterrows():\n",
    "    ## Check whether this image has already been processed\n",
    "    done = glob(path_join(expanduser(OUTPUT_DIR), row.Filename[:-4]+'*'))\n",
    "    if len(done) == 10:\n",
    "        continue\n",
    "        \n",
    "    try:\n",
    "        ipath = path_join(expanduser(INPUT_DIR), row.Filename)\n",
    "        img = Image.open(ipath)\n",
    "        # Get center of bounding box\n",
    "        cx, cy = (row.MinX+row.MaxX)//2, (row.MinY+row.MaxY)//2\n",
    "        # Choose 5 pixel shift combinations\n",
    "        offsets = [(0,0), (-70,-70), (-70,70), (70,-70), (70,70)]\n",
    "        for dx, dy in offsets:\n",
    "            # Setup a 299x299 ROI centered on (cx+dx,cy+dy)\n",
    "            roi = ROI(cx-150, cy-150, cx+149, cy+149)\n",
    "            roi.shift_xy(dx, dy)\n",
    "            roi.set_limits(img.size)\n",
    "            cropped = img.crop(roi.as_tuple())\n",
    "            \n",
    "            # Save the cropped version and a mirrored copy\n",
    "            path_args = dict(stem=row.Filename[:-4], idx=idx, dx=dx, dy=dy)\n",
    "            cropped.save(opath.format(**path_args, orient='normal'))\n",
    "            ImageOps.mirror(cropped).save(opath.format(**path_args, orient='mirror'))\n",
    "    except Exception as e:\n",
    "        print(\"Unable to process record %s:\\n\"%row.Filename, e)"
   ]
  },
  {
   "cell_type": "code",
   "execution_count": 5,
   "id": "extended-throw",
   "metadata": {},
   "outputs": [
    {
     "name": "stdout",
     "output_type": "stream",
     "text": [
      "+ for dataset in non_smoke smoke_cropped\n",
      "+ SRC=/home/jmp/Data/firecam/non_smoke/\n",
      "+ BUCKET=s3://storage-9iudgkuqwurq6/firecam/non_smoke/\n",
      "+ DEST=training/non_smoke.html\n",
      "++ dirname training/non_smoke.html\n",
      "+ mkdir -p training\n",
      "+ s3cmd sync --guess-mime-type --no-mime-magic --delete-removed --acl-public /home/jmp/Data/firecam/non_smoke/ s3://storage-9iudgkuqwurq6/firecam/non_smoke/\n",
      "+ echo '<html><head><link rel=\"stylesheet\" href=\"style.css\"></head><body>'\n",
      "+ find /home/jmp/Data/firecam/non_smoke/ -type f -iname '*.jpg'\n",
      "+ jq -R -r @uri\n",
      "+ awk '\n",
      "        { if((NR-1)%10 == 0) print(\"<div class=\\\"row\\\">\") };\n",
      "        { printf(\"<img src=\\\"https://storage-9iudgkuqwurq6.s3-us-west-2.amazonaws.com/firecam/%s\\\" />\\n\",$1) };\n",
      "        { if((NR-1)%10==9) print(\"</div>\") }'\n",
      "+ echo '</body></html>'\n",
      "+ for dataset in non_smoke smoke_cropped\n",
      "+ SRC=/home/jmp/Data/firecam/smoke_cropped/\n",
      "+ BUCKET=s3://storage-9iudgkuqwurq6/firecam/smoke_cropped/\n",
      "+ DEST=training/smoke_cropped.html\n",
      "++ dirname training/smoke_cropped.html\n",
      "+ mkdir -p training\n",
      "+ s3cmd sync --guess-mime-type --no-mime-magic --delete-removed --acl-public /home/jmp/Data/firecam/smoke_cropped/ s3://storage-9iudgkuqwurq6/firecam/smoke_cropped/\n",
      "WARNING: Empty object name on S3 found, ignoring.\n",
      "+ echo '<html><head><link rel=\"stylesheet\" href=\"style.css\"></head><body>'\n",
      "+ find /home/jmp/Data/firecam/smoke_cropped/ -type f -iname '*.jpg'\n",
      "+ jq -R -r @uri\n",
      "+ awk '\n",
      "        { if((NR-1)%10 == 0) print(\"<div class=\\\"row\\\">\") };\n",
      "        { printf(\"<img src=\\\"https://storage-9iudgkuqwurq6.s3-us-west-2.amazonaws.com/firecam/%s\\\" />\\n\",$1) };\n",
      "        { if((NR-1)%10==9) print(\"</div>\") }'\n",
      "+ echo '</body></html>'\n"
     ]
    }
   ],
   "source": [
    "## Put the training data into some html files for\n",
    "## quick verification that it looks as we'd expect it to.\n",
    "!./make_training_data_explorer.sh"
   ]
  },
  {
   "cell_type": "code",
   "execution_count": null,
   "id": "silent-powell",
   "metadata": {},
   "outputs": [],
   "source": []
  }
 ],
 "metadata": {
  "kernelspec": {
   "display_name": "Python 3",
   "language": "python",
   "name": "python3"
  },
  "language_info": {
   "codemirror_mode": {
    "name": "ipython",
    "version": 3
   },
   "file_extension": ".py",
   "mimetype": "text/x-python",
   "name": "python",
   "nbconvert_exporter": "python",
   "pygments_lexer": "ipython3",
   "version": "3.8.6"
  }
 },
 "nbformat": 4,
 "nbformat_minor": 5
}
