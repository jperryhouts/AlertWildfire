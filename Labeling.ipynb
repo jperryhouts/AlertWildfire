{
 "cells": [
  {
   "cell_type": "code",
   "execution_count": 1,
   "id": "great-tracker",
   "metadata": {},
   "outputs": [],
   "source": [
    "import glob, json, os, re\n",
    "import random\n",
    "import numpy as np\n",
    "from scipy import stats, signal\n",
    "from datetime import datetime\n",
    "from PIL import Image\n",
    "import pytesseract\n",
    "import pymysql\n",
    "import sqlalchemy as SQL\n",
    "from urllib.parse import quote_plus as QP\n",
    "\n",
    "from IPython.display import clear_output, display\n",
    "import ipywidgets as widgets\n",
    "from ipyevents import Event\n",
    "\n",
    "import matplotlib.pyplot as plt\n",
    "import seaborn\n",
    "\n",
    "%matplotlib inline\n",
    "seaborn.set_theme()\n",
    "\n",
    "HOME = os.path.expanduser('~')"
   ]
  },
  {
   "cell_type": "code",
   "execution_count": 2,
   "id": "separate-father",
   "metadata": {},
   "outputs": [],
   "source": [
    "def get_sql_url():\n",
    "    sql_secrets_path = os.path.join(HOME, 'Documents', 'sql_secrets.json')\n",
    "    with open(sql_secrets_path,'r') as SECRETS:\n",
    "        SECRETS = json.load(SECRETS)\n",
    "        SQL_PASSWD = SECRETS['PASSWD']\n",
    "        SQL_USER = SECRETS['USER']\n",
    "        SQL_HOST = SECRETS['HOST']\n",
    "        SQL_PORT = SECRETS['PORT']\n",
    "        SQL_DB = SECRETS['DB']\n",
    "\n",
    "    return f\"mysql+pymysql://{SQL_USER}:{QP(SQL_PASSWD)}@{SQL_HOST}:{SQL_PORT}/{SQL_DB}\"\n",
    "\n",
    "SQL_URL = get_sql_url()\n",
    "SQL_ENGINE = SQL.create_engine(SQL_URL)\n",
    "\n",
    "%load_ext sql\n",
    "%sql $SQL_URL"
   ]
  },
  {
   "cell_type": "code",
   "execution_count": 3,
   "id": "signed-marathon",
   "metadata": {},
   "outputs": [],
   "source": [
    "class History():\n",
    "    '''\n",
    "    A class for iterating through database rows, maintaining\n",
    "    \"back\" and \"forward\" stacks.\n",
    "    '''\n",
    "    def __init__(self, cursor):\n",
    "        self.cursor = cursor\n",
    "        self.back = []\n",
    "        self.forward = []\n",
    "        self.setCurrent(self.getNext())\n",
    "\n",
    "    def getNext(self):\n",
    "        return self.cursor.fetchone()\n",
    "\n",
    "    def goForward(self):\n",
    "        if len(self.forward) > 0:\n",
    "            self.back.append(self.current)\n",
    "            self.setCurrent(self.forward.pop())\n",
    "        else:\n",
    "            nextRecord = self.getNext()\n",
    "            if nextRecord is not None:\n",
    "                self.back.append(self.current)\n",
    "                self.setCurrent(nextRecord)\n",
    "\n",
    "    def goBack(self):\n",
    "        if len(self.back) > 0:\n",
    "            self.forward.append(self.current)\n",
    "            self.setCurrent(self.back.pop())\n",
    "\n",
    "    def setCurrent(self, current):\n",
    "        self.current = current\n",
    "        self.update_needed = True\n",
    "            \n",
    "    def getCurrent(self):\n",
    "        self.update_needed = False\n",
    "        return self.current\n",
    "\n",
    "    def asHTML(self):\n",
    "        BACK = '<br>'.join([str(S[1]) for S in self.back])\n",
    "        FWD = '<br>'.join([str(S[1]) for S in self.forward])\n",
    "        CUR = self.current[1]\n",
    "        return (f\"<table width=100%><tr><td>current: {CUR}</td><td></td></tr>\" \\\n",
    "                + f\"<tr><td width=50%>Back:<br>{BACK}</td>\" \\\n",
    "                + f\"<td width=50%>Forward:<br>{FWD}</td></tr></table>\")\n",
    "\n",
    "class TagIndicator(widgets.HTML):\n",
    "    def __init__(self, fields, sql_cursor=None):\n",
    "        super().__init__(\"\")\n",
    "        self.tags = [-1]*len(fields)\n",
    "        self.fields = fields\n",
    "        self.update_html()\n",
    "        self.cursor = sql_cursor\n",
    "    \n",
    "    def get_tags(self):\n",
    "        return self.tags\n",
    "        \n",
    "    def set_all_tags(self, tags):\n",
    "        self.tags = tags\n",
    "        self.update_html()\n",
    "        \n",
    "    def set_unset_tags(self, new):\n",
    "        self.tags = [old if (old is not None and old > -1) else new for old in self.tags]\n",
    "        self.update_html()\n",
    "    \n",
    "    def set_tag(self, idx, value):\n",
    "        self.tags[idx] = value\n",
    "        self.update_html()\n",
    "    \n",
    "    def update_html(self):\n",
    "        c = lambda tag: ('gray', 'green', 'red')[tag+1]\n",
    "        cols = [f\"<td style='background-color:{c(tag)}'>{self.fields[i]} {tag}</td>\" for i, tag in enumerate(self.tags)]\n",
    "        #cols = [f\"<td>{self.fields[i]} {tag}</td>\" for i, tag in enumerate(self.tags)]\n",
    "        self.value = f\"<table><tr>{''.join(cols)}</tr></table>\""
   ]
  },
  {
   "cell_type": "code",
   "execution_count": 5,
   "id": "streaming-course",
   "metadata": {},
   "outputs": [
    {
     "data": {
      "application/vnd.jupyter.widget-view+json": {
       "model_id": "770af854f70347aea9b51857fef70bea",
       "version_major": 2,
       "version_minor": 0
      },
      "text/plain": [
       "Image(value=b'\\x89PNG\\r\\n\\x1a\\n\\x00\\x00\\x00\\rIHDR\\x00\\x00\\x06\\xdd\\x00\\x00\\x03\\xdc\\x08\\x06\\x00\\x00\\x00-\\xc5ta\\x…"
      ]
     },
     "metadata": {},
     "output_type": "display_data"
    },
    {
     "data": {
      "application/vnd.jupyter.widget-view+json": {
       "model_id": "fdb4690d79a5419ca56a817214250053",
       "version_major": 2,
       "version_minor": 0
      },
      "text/plain": [
       "TagIndicator(value=\"<table><tr><td style='background-color:gray'>MotionBlur -1</td><td style='background-color…"
      ]
     },
     "metadata": {},
     "output_type": "display_data"
    }
   ],
   "source": [
    "with SQL_ENGINE.connect().execution_options(autocommit=True) as conn:\n",
    "    sql_cmd = \"SELECT `ImageID`, `Path`, `DateTime` FROM `Metadata` ORDER BY `DateTime`;\"\n",
    "    cursor = conn.execute(SQL.text(sql_cmd))\n",
    "\n",
    "    \n",
    "    INFO = TagIndicator([\"MotionBlur\", \"Obscured\"])\n",
    "    POS = History(cursor)\n",
    "    IMAGE = widgets.Image(format='png', width=800)\n",
    "\n",
    "    def update_image():\n",
    "        if POS.update_needed:\n",
    "            current = POS.getCurrent()\n",
    "            path = f\"/home/jmp/Data/Storage/AlertWF/Brightwood/{current[1]}\"\n",
    "            INFO.set_all_tags([-1, -1])\n",
    "            IMAGE.set_value_from_file(path)\n",
    "\n",
    "    def handle_event(evt):\n",
    "        if evt['code'] in ['ArrowUp', 'ArrowLeft']:\n",
    "            POS.goBack()\n",
    "        elif evt['code'] in ['ArrowDown', 'ArrowRight']:\n",
    "            POS.goForward()\n",
    "        elif evt['key'] == 'Enter':\n",
    "            ## Picks up 'NumpadEnter' as well\n",
    "            POS.goForward()\n",
    "        elif evt['code'].startswith('Numpad'):\n",
    "            idx = int(evt['key'])-1\n",
    "            val = 0 if evt['ctrlKey'] else 1\n",
    "            if idx >= 0:\n",
    "                INFO.set_tag(idx%3, val)\n",
    "            if idx < 3:\n",
    "                POS.goForward()\n",
    "        update_image()\n",
    "\n",
    "    d = Event(source=IMAGE, watched_events=['keydown'])\n",
    "    d.on_dom_event(handle_event)\n",
    "    update_image()\n",
    "    display(IMAGE, INFO)"
   ]
  },
  {
   "cell_type": "code",
   "execution_count": null,
   "id": "jewish-pierre",
   "metadata": {},
   "outputs": [],
   "source": []
  }
 ],
 "metadata": {
  "kernelspec": {
   "display_name": "Python 3",
   "language": "python",
   "name": "python3"
  },
  "language_info": {
   "codemirror_mode": {
    "name": "ipython",
    "version": 3
   },
   "file_extension": ".py",
   "mimetype": "text/x-python",
   "name": "python",
   "nbconvert_exporter": "python",
   "pygments_lexer": "ipython3",
   "version": "3.8.6"
  }
 },
 "nbformat": 4,
 "nbformat_minor": 5
}
