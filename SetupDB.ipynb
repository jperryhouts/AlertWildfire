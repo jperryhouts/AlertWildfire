{
 "cells": [
  {
   "cell_type": "code",
   "execution_count": 1,
   "id": "gross-sydney",
   "metadata": {},
   "outputs": [],
   "source": [
    "import glob, json, os, re\n",
    "from datetime import datetime\n",
    "import pymysql\n",
    "import sqlalchemy as SQL\n",
    "from urllib.parse import quote_plus as QP\n",
    "\n",
    "HOME = os.path.expanduser('~')"
   ]
  },
  {
   "cell_type": "code",
   "execution_count": 2,
   "id": "psychological-blend",
   "metadata": {},
   "outputs": [],
   "source": [
    "def get_sql_url():\n",
    "    sql_secrets_path = os.path.join(HOME, 'Documents', 'sql_secrets.json')\n",
    "    with open(sql_secrets_path,'r') as SECRETS:\n",
    "        SECRETS = json.load(SECRETS)\n",
    "        SQL_PASSWD = SECRETS['PASSWD']\n",
    "        SQL_USER = SECRETS['USER']\n",
    "        SQL_HOST = SECRETS['HOST']\n",
    "        SQL_PORT = SECRETS['PORT']\n",
    "        SQL_DB = SECRETS['DB']\n",
    "\n",
    "    return f\"mysql+pymysql://{SQL_USER}:{QP(SQL_PASSWD)}@{SQL_HOST}:{SQL_PORT}/{SQL_DB}\"\n",
    "\n",
    "SQL_URL = get_sql_url()\n",
    "SQL_ENGINE = SQL.create_engine(SQL_URL)\n",
    "\n",
    "%load_ext sql\n",
    "%sql $SQL_URL"
   ]
  },
  {
   "cell_type": "markdown",
   "id": "monetary-belarus",
   "metadata": {},
   "source": [
    "### Partial log of database setup commands"
   ]
  },
  {
   "cell_type": "raw",
   "id": "brilliant-queue",
   "metadata": {},
   "source": [
    "%%sql\n",
    "\n",
    "CREATE DATABASE IF NOT EXISTS AlertWildfire;\n",
    "USE AlertWildfire;\n",
    "\n",
    "# DROP TABLE IF EXISTS Imagery;\n",
    "# DROP TABLE IF EXISTS Stations;\n",
    "\n",
    "CREATE TABLE IF NOT EXISTS Stations (\n",
    "\tStationID INT NOT NULL AUTO_INCREMENT,\n",
    "    StationName VARCHAR(255),\n",
    "    PRIMARY KEY (StationID)\n",
    ");\n",
    "\n",
    "CREATE TABLE IF NOT EXISTS Imagery (\n",
    "\tImageID INT NOT NULL AUTO_INCREMENT,\n",
    "    StationID INT NOT NULL,\n",
    "    DateTime DATETIME,\n",
    "    X FLOAT, Y FLOAT, Z FLOAT,\n",
    "    Image LONGBLOB,\n",
    "    PRIMARY KEY (ImageID),\n",
    "    FOREIGN KEY (StationID) REFERENCES Stations(StationID)\n",
    ");\n",
    "\n",
    "# INSERT INTO Stations (StationName) VALUES ('Brightwood');"
   ]
  },
  {
   "cell_type": "markdown",
   "id": "compound-label",
   "metadata": {},
   "source": [
    "#### Note: Somewhere in here I deleted the 'Image' column, and added a 'Path' column with type VARCHAR(255)"
   ]
  },
  {
   "cell_type": "raw",
   "id": "pointed-outdoors",
   "metadata": {},
   "source": [
    "## Let's update the Imagery table to be more appropriately named \"Metadata\"\n",
    "%sql RENAME TABLE `Imagery` TO `Metadata`;"
   ]
  },
  {
   "cell_type": "raw",
   "id": "abstract-replication",
   "metadata": {},
   "source": [
    "%%sql\n",
    "CREATE TABLE IF NOT EXISTS `Tags` (\n",
    "    `TagID` INT NOT NULL AUTO_INCREMENT,\n",
    "    `ImageID` INT NOT NULL,\n",
    "    `MotionBlur` BOOLEAN,\n",
    "    `Obscured` BOOLEAN,\n",
    "    PRIMARY KEY (TagID),\n",
    "    FOREIGN KEY (ImageID) REFERENCES Metadata(ImageID)\n",
    ");"
   ]
  },
  {
   "cell_type": "markdown",
   "id": "outer-factory",
   "metadata": {},
   "source": [
    "#### Note: I generate and update the Features table in Features.ipynb"
   ]
  },
  {
   "cell_type": "code",
   "execution_count": null,
   "id": "regular-minneapolis",
   "metadata": {},
   "outputs": [],
   "source": []
  }
 ],
 "metadata": {
  "kernelspec": {
   "display_name": "Python 3",
   "language": "python",
   "name": "python3"
  },
  "language_info": {
   "codemirror_mode": {
    "name": "ipython",
    "version": 3
   },
   "file_extension": ".py",
   "mimetype": "text/x-python",
   "name": "python",
   "nbconvert_exporter": "python",
   "pygments_lexer": "ipython3",
   "version": "3.8.6"
  }
 },
 "nbformat": 4,
 "nbformat_minor": 5
}
